{
 "cells": [
  {
   "cell_type": "markdown",
   "id": "0e0764b6",
   "metadata": {},
   "source": [
    "# Hangman - The Game"
   ]
  },
  {
   "cell_type": "markdown",
   "id": "e17b6951",
   "metadata": {},
   "source": [
    "## Import modules"
   ]
  },
  {
   "cell_type": "code",
   "execution_count": 1,
   "id": "1fae5314",
   "metadata": {},
   "outputs": [],
   "source": [
    "from IPython.display import clear_output"
   ]
  },
  {
   "cell_type": "markdown",
   "id": "328df550",
   "metadata": {},
   "source": [
    "## Functions"
   ]
  },
  {
   "cell_type": "code",
   "execution_count": 2,
   "id": "7325c60f",
   "metadata": {},
   "outputs": [],
   "source": [
    "def display_hang_man(m):\n",
    "    print(\"_______\")\n",
    "    print(\"|     |\")\n",
    "    print(\"|    \" +m[4] + m[0] + m[5])\n",
    "    print(\"|     \" + m[1])\n",
    "    print(\"|     \" + m[2] + m[3])\n",
    "    print(\"|\\\\\")\n",
    "    print(\"\\n\") #new line to make some space."
   ]
  },
  {
   "cell_type": "code",
   "execution_count": 3,
   "id": "0f6098a0",
   "metadata": {},
   "outputs": [],
   "source": [
    "def guess_a_letter():\n",
    "    global wrong_guesses\n",
    "    global phrase_so_far\n",
    "    while True:\n",
    "        guess = input(\"Guess a lower-case letter: \")\n",
    "    \n",
    "        # check that only 1 character has been entered:\n",
    "        if len(guess) != 1:\n",
    "            print(\"The guess should be 1 letter. Try again.\")\n",
    "            continue\n",
    "\n",
    "        # check that it is a letter:\n",
    "        if not guess.isalpha():\n",
    "            print(\"The guess should be a letter. Try again.\")\n",
    "            continue\n",
    "\n",
    "        # Check if already tried\n",
    "        if (guess.lower() in wrong_guesses) or (guess.lower() in phrase_so_far):\n",
    "            print(\"You have already guessed that, try again.\")\n",
    "            continue\n",
    "        \n",
    "        return guess.lower()"
   ]
  },
  {
   "cell_type": "code",
   "execution_count": 4,
   "id": "29dbea52",
   "metadata": {},
   "outputs": [],
   "source": [
    "def check_guess(guess):\n",
    "    \n",
    "    successful_guess = False\n",
    "    for i in range(len(phrase_to_guess)):\n",
    "        if guess == phrase_to_guess[i]:\n",
    "            phrase_so_far[i] = guess\n",
    "            successful_guess = True\n",
    "            \n",
    "    if successful_guess == False:\n",
    "        man_so_far[len(wrong_guesses)] = man_entire[len(wrong_guesses)]\n",
    "        wrong_guesses.append(guess)\n",
    "        "
   ]
  },
  {
   "cell_type": "code",
   "execution_count": 5,
   "id": "a03e4e75",
   "metadata": {},
   "outputs": [],
   "source": [
    "def check_won_lost(phrase_so_far):\n",
    "    global won\n",
    "    global lost\n",
    "    global gameon\n",
    "    \n",
    "    if phrase_so_far == phrase_to_guess:\n",
    "        won = True\n",
    "        gameon = False\n",
    "   \n",
    "    if man_so_far == man_entire:\n",
    "        lost = True\n",
    "        gameon = False"
   ]
  },
  {
   "cell_type": "code",
   "execution_count": 6,
   "id": "85ade71b",
   "metadata": {},
   "outputs": [],
   "source": [
    "def display_board():\n",
    "    clear_output()\n",
    "    # Display gallows & man\n",
    "    display_hang_man(man_so_far)\n",
    "\n",
    "    # Display phrase_so_far\n",
    "    print(\"Your phrase so far:      \" + \" \".join(phrase_so_far))\n",
    "\n",
    "    # Display wrong guesses\n",
    "    print(\"Wrong guesses so far:    \" + \" \".join(wrong_guesses))\n",
    "\n",
    "    # if game is won/lost: Display it\n",
    "    if won:\n",
    "        print(\"\\nYOU WON!!! :)\")\n",
    "    if lost:\n",
    "        print(\"\\nGAME OVER\")"
   ]
  },
  {
   "cell_type": "markdown",
   "id": "3ca9852c",
   "metadata": {},
   "source": [
    "## Game Logic - Running the game"
   ]
  },
  {
   "cell_type": "code",
   "execution_count": null,
   "id": "96323b7a",
   "metadata": {
    "scrolled": true
   },
   "outputs": [
    {
     "name": "stdout",
     "output_type": "stream",
     "text": [
      "_______\n",
      "|     |\n",
      "|    _o \n",
      "|     |\n",
      "|     /\\\n",
      "|\\\n",
      "\n",
      "\n",
      "Your phrase so far:      h _ l l _\n",
      "Wrong guesses so far:    k q t r x\n"
     ]
    }
   ],
   "source": [
    "# Run this cell to play the game.\n",
    "\n",
    "man_entire = [\"o\", \"|\", \"/\", \"\\\\\", \"_\",\"_\"]\n",
    "man_so_far = [\" \"]*len(man_entire)\n",
    "\n",
    "# display a welcome etc\n",
    "clear_output\n",
    "print('Welcome to the game: \"Hangman\"')\n",
    "display_hang_man(man_so_far)\n",
    "\n",
    "# ASK FOR THE PHRASE\n",
    "phrase_to_guess = list(input(\"Player 1: Write a phrase to be guessed:   \").lower())\n",
    "\n",
    "phrase_so_far = [\"_\"]*len(phrase_to_guess)\n",
    "wrong_guesses = list([])\n",
    "\n",
    "gameon = True\n",
    "won = False\n",
    "lost = False\n",
    "\n",
    "# Clear the screen from the phrase to guess\n",
    "display_board()\n",
    "\n",
    "while gameon:\n",
    "    \n",
    "    # Ask for a guess:\n",
    "    guess = guess_a_letter()\n",
    "   \n",
    "    # Check the guess and update lists & man\n",
    "    check_guess(guess)\n",
    "    \n",
    "    # Check if won/lost\n",
    "    check_won_lost(phrase_so_far)\n",
    "    \n",
    "    # Display board\n",
    "    display_board()"
   ]
  },
  {
   "cell_type": "code",
   "execution_count": null,
   "id": "126f74a2",
   "metadata": {},
   "outputs": [],
   "source": []
  }
 ],
 "metadata": {
  "kernelspec": {
   "display_name": "Python 3 (ipykernel)",
   "language": "python",
   "name": "python3"
  },
  "language_info": {
   "codemirror_mode": {
    "name": "ipython",
    "version": 3
   },
   "file_extension": ".py",
   "mimetype": "text/x-python",
   "name": "python",
   "nbconvert_exporter": "python",
   "pygments_lexer": "ipython3",
   "version": "3.9.7"
  }
 },
 "nbformat": 4,
 "nbformat_minor": 5
}
